{
 "cells": [
  {
   "cell_type": "code",
   "execution_count": 1,
   "metadata": {},
   "outputs": [],
   "source": [
    "%LOAD mysql user=root host=127.0.0.1 port=4000 db=classicmodels"
   ]
  },
  {
   "cell_type": "code",
   "execution_count": 4,
   "metadata": {},
   "outputs": [
    {
     "data": {
      "text/html": [
       "<table>\n",
       "<tr>\n",
       "<th>Tables_in_classicmodels</th>\n",
       "</tr>\n",
       "<tr>\n",
       "<td>employees</td>\n",
       "</tr>\n",
       "<tr>\n",
       "<td>offices</td>\n",
       "</tr>\n",
       "<tr>\n",
       "<td>orderdetails</td>\n",
       "</tr>\n",
       "<tr>\n",
       "<td>orders</td>\n",
       "</tr>\n",
       "<tr>\n",
       "<td>payments</td>\n",
       "</tr>\n",
       "<tr>\n",
       "<td>productlines</td>\n",
       "</tr>\n",
       "<tr>\n",
       "<td>products</td>\n",
       "</tr>\n",
       "</table>"
      ]
     },
     "execution_count": 4,
     "metadata": {},
     "output_type": "execute_result"
    }
   ],
   "source": [
    "show tables;"
   ]
  },
  {
   "cell_type": "code",
   "execution_count": 8,
   "metadata": {},
   "outputs": [
    {
     "data": {
      "text/html": [
       "<table>\n",
       "<tr>\n",
       "<th>orderNumber</th>\n",
       "<th>productCode</th>\n",
       "<th>quantityOrdered</th>\n",
       "<th>priceEach</th>\n",
       "<th>orderLineNumber</th>\n",
       "</tr>\n",
       "<tr>\n",
       "<td>10100</td>\n",
       "<td>S18_2248</td>\n",
       "<td>50</td>\n",
       "<td>55.09</td>\n",
       "<td>2</td>\n",
       "</tr>\n",
       "<tr>\n",
       "<td>10100</td>\n",
       "<td>S18_4409</td>\n",
       "<td>22</td>\n",
       "<td>75.46</td>\n",
       "<td>4</td>\n",
       "</tr>\n",
       "<tr>\n",
       "<td>10100</td>\n",
       "<td>S24_3969</td>\n",
       "<td>49</td>\n",
       "<td>35.29</td>\n",
       "<td>1</td>\n",
       "</tr>\n",
       "<tr>\n",
       "<td>10101</td>\n",
       "<td>S18_2325</td>\n",
       "<td>25</td>\n",
       "<td>108.06</td>\n",
       "<td>4</td>\n",
       "</tr>\n",
       "<tr>\n",
       "<td>10101</td>\n",
       "<td>S18_2795</td>\n",
       "<td>26</td>\n",
       "<td>167.06</td>\n",
       "<td>1</td>\n",
       "</tr>\n",
       "<tr>\n",
       "<td>10101</td>\n",
       "<td>S24_1937</td>\n",
       "<td>45</td>\n",
       "<td>32.53</td>\n",
       "<td>3</td>\n",
       "</tr>\n",
       "<tr>\n",
       "<td>10101</td>\n",
       "<td>S24_2022</td>\n",
       "<td>46</td>\n",
       "<td>44.35</td>\n",
       "<td>2</td>\n",
       "</tr>\n",
       "<tr>\n",
       "<td>10102</td>\n",
       "<td>S18_1342</td>\n",
       "<td>39</td>\n",
       "<td>95.55</td>\n",
       "<td>2</td>\n",
       "</tr>\n",
       "<tr>\n",
       "<td>10102</td>\n",
       "<td>S18_1367</td>\n",
       "<td>41</td>\n",
       "<td>43.13</td>\n",
       "<td>1</td>\n",
       "</tr>\n",
       "</table>"
      ]
     },
     "execution_count": 8,
     "metadata": {},
     "output_type": "execute_result"
    }
   ],
   "source": [
    "select * from orderdetails limit 10;"
   ]
  },
  {
   "cell_type": "code",
   "execution_count": 2,
   "metadata": {},
   "outputs": [
    {
     "data": {
      "application/vnd.vegalite.v3+json": {
       "$schema": "https://vega.github.io/schema/vega-lite/v4.json",
       "data": {
        "values": [
         {
          "IMDB Rating": "name"
         },
         {
          "IMDB Rating": "14571.44"
         },
         {
          "IMDB Rating": "1676.14"
         },
         {
          "IMDB Rating": "14191.12"
         },
         {
          "IMDB Rating": "32641.98"
         },
         {
          "IMDB Rating": "33347.88"
         },
         {
          "IMDB Rating": "45864.03"
         },
         {
          "IMDB Rating": "82261.22"
         },
         {
          "IMDB Rating": "7565.08"
         },
         {
          "IMDB Rating": "44894.74"
         },
         {
          "IMDB Rating": "19501.82"
         },
         {
          "IMDB Rating": "47924.19"
         },
         {
          "IMDB Rating": "49523.67"
         },
         {
          "IMDB Rating": "50218.95"
         },
         {
          "IMDB Rating": "1491.38"
         },
         {
          "IMDB Rating": "17876.32"
         },
         {
          "IMDB Rating": "34638.14"
         },
         {
          "IMDB Rating": "101244.59"
         },
         {
          "IMDB Rating": "85410.87"
         },
         {
          "IMDB Rating": "11044.3"
         },
         {
          "IMDB Rating": "83598.04"
         },
         {
          "IMDB Rating": "47142.7"
         },
         {
          "IMDB Rating": "55639.66"
         },
         {
          "IMDB Rating": "111654.4"
         },
         {
          "IMDB Rating": "43369.3"
         },
         {
          "IMDB Rating": "45084.38"
         },
         {
          "IMDB Rating": "10549.01"
         },
         {
          "IMDB Rating": "24101.81"
         },
         {
          "IMDB Rating": "33820.62"
         },
         {
          "IMDB Rating": "7466.32"
         },
         {
          "IMDB Rating": "26248.78"
         },
         {
          "IMDB Rating": "23923.93"
         },
         {
          "IMDB Rating": "16537.85"
         },
         {
          "IMDB Rating": "22292.62"
         },
         {
          "IMDB Rating": "50025.35"
         },
         {
          "IMDB Rating": "35321.97"
         },
         {
          "IMDB Rating": "36251.03"
         },
         {
          "IMDB Rating": "36140.38"
         },
         {
          "IMDB Rating": "46895.48"
         },
         {
          "IMDB Rating": "59830.55"
         },
         {
          "IMDB Rating": "116208.4"
         },
         {
          "IMDB Rating": "65071.26"
         },
         {
          "IMDB Rating": "120166.58"
         },
         {
          "IMDB Rating": "49539.37"
         },
         {
          "IMDB Rating": "40206.2"
         },
         {
          "IMDB Rating": "63843.55"
         },
         {
          "IMDB Rating": "35420.74"
         },
         {
          "IMDB Rating": "20009.53"
         },
         {
          "IMDB Rating": "26155.91"
         },
         {
          "IMDB Rating": "36005.71"
         },
         {
          "IMDB Rating": "7674.94"
         },
         {
          "IMDB Rating": "4710.73"
         },
         {
          "IMDB Rating": "28211.7"
         },
         {
          "IMDB Rating": "20564.86"
         },
         {
          "IMDB Rating": "53959.21"
         },
         {
          "IMDB Rating": "40978.53"
         },
         {
          "IMDB Rating": "49614.72"
         },
         {
          "IMDB Rating": "39712.1"
         },
         {
          "IMDB Rating": "44380.15"
         },
         {
          "IMDB Rating": "2611.84"
         },
         {
          "IMDB Rating": "105743"
         },
         {
          "IMDB Rating": "3516.04"
         },
         {
          "IMDB Rating": "58793.53"
         },
         {
          "IMDB Rating": "20314.44"
         },
         {
          "IMDB Rating": "58841.35"
         },
         {
          "IMDB Rating": "39964.63"
         },
         {
          "IMDB Rating": "35152.12"
         },
         {
          "IMDB Rating": "63357.13"
         },
         {
          "IMDB Rating": "2434.25"
         },
         {
          "IMDB Rating": "50743.65"
         },
         {
          "IMDB Rating": "12692.19"
         },
         {
          "IMDB Rating": "38675.13"
         },
         {
          "IMDB Rating": "38785.48"
         },
         {
          "IMDB Rating": "44160.92"
         },
         {
          "IMDB Rating": "22474.17"
         },
         {
          "IMDB Rating": "12538.01"
         },
         {
          "IMDB Rating": "85024.46"
         },
         {
          "IMDB Rating": "18997.89"
         },
         {
          "IMDB Rating": "42783.81"
         },
         {
          "IMDB Rating": "1960.8"
         },
         {
          "IMDB Rating": "51209.58"
         },
         {
          "IMDB Rating": "33383.14"
         },
         {
          "IMDB Rating": "11843.45"
         },
         {
          "IMDB Rating": "20355.24"
         },
         {
          "IMDB Rating": "28500.78"
         },
         {
          "IMDB Rating": "24879.08"
         },
         {
          "IMDB Rating": "42044.77"
         },
         {
          "IMDB Rating": "15183.63"
         },
         {
          "IMDB Rating": "47177.59"
         },
         {
          "IMDB Rating": "22602.36"
         },
         {
          "IMDB Rating": "5494.78"
         },
         {
          "IMDB Rating": "44400.5"
         },
         {
          "IMDB Rating": "23602.9"
         },
         {
          "IMDB Rating": "37602.48"
         },
         {
          "IMDB Rating": "34341.08"
         },
         {
          "IMDB Rating": "52825.29"
         },
         {
          "IMDB Rating": "47159.11"
         },
         {
          "IMDB Rating": "48425.69"
         },
         {
          "IMDB Rating": "17359.53"
         },
         {
          "IMDB Rating": "32538.74"
         },
         {
          "IMDB Rating": "9658.74"
         },
         {
          "IMDB Rating": "6036.96"
         },
         {
          "IMDB Rating": "5858.56"
         },
         {
          "IMDB Rating": "23908.24"
         },
         {
          "IMDB Rating": "37258.94"
         },
         {
          "IMDB Rating": "36527.61"
         },
         {
          "IMDB Rating": "33594.58"
         },
         {
          "IMDB Rating": "51152.86"
         },
         {
          "IMDB Rating": "4424.4"
         },
         {
          "IMDB Rating": "3879.96"
         },
         {
          "IMDB Rating": "50342.74"
         },
         {
          "IMDB Rating": "39580.6"
         },
         {
          "IMDB Rating": "35157.75"
         },
         {
          "IMDB Rating": "4632.31"
         },
         {
          "IMDB Rating": "36069.26"
         },
         {
          "IMDB Rating": "45480.79"
         },
         {
          "IMDB Rating": "3101.4"
         },
         {
          "IMDB Rating": "24945.21"
         },
         {
          "IMDB Rating": "40473.86"
         },
         {
          "IMDB Rating": "3452.75"
         },
         {
          "IMDB Rating": "4465.85"
         },
         {
          "IMDB Rating": "36164.46"
         },
         {
          "IMDB Rating": "53745.34"
         },
         {
          "IMDB Rating": "29070.38"
         },
         {
          "IMDB Rating": "22997.45"
         },
         {
          "IMDB Rating": "16909.84"
         },
         {
          "IMDB Rating": "80375.24"
         },
         {
          "IMDB Rating": "46788.14"
         },
         {
          "IMDB Rating": "24995.61"
         },
         {
          "IMDB Rating": "33818.34"
         },
         {
          "IMDB Rating": "12432.32"
         },
         {
          "IMDB Rating": "14232.7"
         },
         {
          "IMDB Rating": "33924.24"
         },
         {
          "IMDB Rating": "48298.99"
         },
         {
          "IMDB Rating": "17928.09"
         },
         {
          "IMDB Rating": "26311.63"
         },
         {
          "IMDB Rating": "23419.47"
         },
         {
          "IMDB Rating": "5759.42"
         },
         {
          "IMDB Rating": "53116.99"
         },
         {
          "IMDB Rating": "61234.67"
         },
         {
          "IMDB Rating": "27988.47"
         },
         {
          "IMDB Rating": "37527.58"
         },
         {
          "IMDB Rating": "29284.42"
         },
         {
          "IMDB Rating": "27083.78"
         },
         {
          "IMDB Rating": "38547.19"
         },
         {
          "IMDB Rating": "41554.73"
         },
         {
          "IMDB Rating": "29848.52"
         },
         {
          "IMDB Rating": "37654.09"
         },
         {
          "IMDB Rating": "52151.81"
         },
         {
          "IMDB Rating": "37723.79"
         },
         {
          "IMDB Rating": "24013.52"
         },
         {
          "IMDB Rating": "35806.73"
         },
         {
          "IMDB Rating": "31835.36"
         },
         {
          "IMDB Rating": "47411.33"
         },
         {
          "IMDB Rating": "43134.04"
         },
         {
          "IMDB Rating": "47375.92"
         },
         {
          "IMDB Rating": "61402"
         },
         {
          "IMDB Rating": "36798.88"
         },
         {
          "IMDB Rating": "32260.16"
         },
         {
          "IMDB Rating": "46770.52"
         },
         {
          "IMDB Rating": "32723.04"
         },
         {
          "IMDB Rating": "16212.59"
         },
         {
          "IMDB Rating": "45352.47"
         },
         {
          "IMDB Rating": "16901.38"
         },
         {
          "IMDB Rating": "42339.76"
         },
         {
          "IMDB Rating": "36092.4"
         },
         {
          "IMDB Rating": "8307.28"
         },
         {
          "IMDB Rating": "41016.75"
         },
         {
          "IMDB Rating": "52548.49"
         },
         {
          "IMDB Rating": "85559.12"
         },
         {
          "IMDB Rating": "46781.66"
         },
         {
          "IMDB Rating": "75020.13"
         },
         {
          "IMDB Rating": "37281.36"
         },
         {
          "IMDB Rating": "2880"
         },
         {
          "IMDB Rating": "39440.59"
         },
         {
          "IMDB Rating": "13671.82"
         },
         {
          "IMDB Rating": "29429.14"
         },
         {
          "IMDB Rating": "37455.77"
         },
         {
          "IMDB Rating": "7178.66"
         },
         {
          "IMDB Rating": "31102.85"
         },
         {
          "IMDB Rating": "23936.53"
         },
         {
          "IMDB Rating": "9821.32"
         },
         {
          "IMDB Rating": "21432.31"
         },
         {
          "IMDB Rating": "45785.34"
         },
         {
          "IMDB Rating": "29716.86"
         },
         {
          "IMDB Rating": "28394.54"
         },
         {
          "IMDB Rating": "23333.06"
         },
         {
          "IMDB Rating": "34606.28"
         },
         {
          "IMDB Rating": "31428.21"
         },
         {
          "IMDB Rating": "15322.93"
         },
         {
          "IMDB Rating": "21053.69"
         },
         {
          "IMDB Rating": "20452.5"
         },
         {
          "IMDB Rating": "18888.31"
         },
         {
          "IMDB Rating": "50824.66"
         },
         {
          "IMDB Rating": "1834.56"
         },
         {
          "IMDB Rating": "49705.52"
         },
         {
          "IMDB Rating": "13920.26"
         },
         {
          "IMDB Rating": "16700.47"
         },
         {
          "IMDB Rating": "46656.94"
         },
         {
          "IMDB Rating": "20220.04"
         },
         {
          "IMDB Rating": "36442.34"
         },
         {
          "IMDB Rating": "18473.71"
         },
         {
          "IMDB Rating": "15059.76"
         },
         {
          "IMDB Rating": "50799.69"
         },
         {
          "IMDB Rating": "10223.83"
         },
         {
          "IMDB Rating": "55425.77"
         },
         {
          "IMDB Rating": "28322.83"
         },
         {
          "IMDB Rating": "32680.31"
         },
         {
          "IMDB Rating": "12530.51"
         },
         {
          "IMDB Rating": "12081.52"
         },
         {
          "IMDB Rating": "1627.56"
         },
         {
          "IMDB Rating": "14379.9"
         },
         {
          "IMDB Rating": "1128.2"
         },
         {
          "IMDB Rating": "35826.33"
         },
         {
          "IMDB Rating": "6419.84"
         },
         {
          "IMDB Rating": "42813.83"
         },
         {
          "IMDB Rating": "20644.24"
         },
         {
          "IMDB Rating": "15822.84"
         },
         {
          "IMDB Rating": "51001.22"
         },
         {
          "IMDB Rating": "38524.29"
         },
         {
          "IMDB Rating": "51619.02"
         },
         {
          "IMDB Rating": "33967.73"
         },
         {
          "IMDB Rating": "22037.91"
         },
         {
          "IMDB Rating": "615.45"
         },
         {
          "IMDB Rating": "48927.64"
         },
         {
          "IMDB Rating": "12190.85"
         },
         {
          "IMDB Rating": "49165.16"
         },
         {
          "IMDB Rating": "25080.96"
         },
         {
          "IMDB Rating": "35034.57"
         },
         {
          "IMDB Rating": "31670.37"
         },
         {
          "IMDB Rating": "31310.09"
         },
         {
          "IMDB Rating": "25505.98"
         },
         {
          "IMDB Rating": "21665.98"
         },
         {
          "IMDB Rating": "22042.37"
         },
         {
          "IMDB Rating": "6631.36"
         },
         {
          "IMDB Rating": "17032.29"
         },
         {
          "IMDB Rating": "26304.13"
         },
         {
          "IMDB Rating": "27966.54"
         },
         {
          "IMDB Rating": "48809.9"
         },
         {
          "IMDB Rating": "59551.38"
         },
         {
          "IMDB Rating": "27121.9"
         },
         {
          "IMDB Rating": "15130.97"
         },
         {
          "IMDB Rating": "8807.12"
         },
         {
          "IMDB Rating": "38139.18"
         },
         {
          "IMDB Rating": "32239.47"
         },
         {
          "IMDB Rating": "27550.51"
         },
         {
          "IMDB Rating": "1679.92"
         },
         {
          "IMDB Rating": "33145.56"
         },
         {
          "IMDB Rating": "22162.61"
         },
         {
          "IMDB Rating": "57131.92"
         },
         {
          "IMDB Rating": "30293.77"
         },
         {
          "IMDB Rating": "9977.85"
         },
         {
          "IMDB Rating": "48355.87"
         },
         {
          "IMDB Rating": "9415.13"
         },
         {
          "IMDB Rating": "35505.63"
         },
         {
          "IMDB Rating": "7612.06"
         },
         {
          "IMDB Rating": "17746.26"
         },
         {
          "IMDB Rating": "7678.25"
         },
         {
          "IMDB Rating": "36070.47"
         },
         {
          "IMDB Rating": "3474.66"
         },
         {
          "IMDB Rating": "47513.19"
         },
         {
          "IMDB Rating": "5899.38"
         },
         {
          "IMDB Rating": "45994.07"
         },
         {
          "IMDB Rating": "25833.14"
         },
         {
          "IMDB Rating": "29997.09"
         },
         {
          "IMDB Rating": "12573.28"
         },
         {
          "IMDB Rating": "22275.73"
         },
         {
          "IMDB Rating": "7310.42"
         },
         {
          "IMDB Rating": "59265.14"
         },
         {
          "IMDB Rating": "6276.6"
         },
         {
          "IMDB Rating": "30253.75"
         },
         {
          "IMDB Rating": "32077.44"
         },
         {
          "IMDB Rating": "52166"
         }
        ]
       },
       "encoding": {
        "x": {
         "bin": true,
         "field": "IMDB Rating"
        },
        "y": {
         "aggregate": "count"
        }
       },
       "mark": "bar"
      },
      "image/png": "[encoded data removed]"
     },
     "execution_count": 2,
     "metadata": {},
     "output_type": "execute_result"
    }
   ],
   "source": [
    "%VEGA-LITE specs/histogram.vl.json \n",
    "select amount as \"IMDB Rating\" from payments;"
   ]
  },
  {
   "cell_type": "code",
   "execution_count": 3,
   "metadata": {},
   "outputs": [
    {
     "data": {
      "application/vnd.vegalite.v3+json": {
       "$schema": "https://vega.github.io/schema/vega-lite/v4.json",
       "data": {
        "values": [
         {
          "a": "name",
          "b": "name"
         },
         {
          "a": "5",
          "b": "58"
         },
         {
          "a": "1",
          "b": "49"
         },
         {
          "a": "4",
          "b": "51"
         },
         {
          "a": "7",
          "b": "2"
         },
         {
          "a": "8",
          "b": "2"
         },
         {
          "a": "6",
          "b": "43"
         },
         {
          "a": "65",
          "b": "1"
         },
         {
          "a": "3",
          "b": "50"
         }
        ]
       },
       "description": "A simple bar chart with embedded data.",
       "encoding": {
        "x": {
         "axis": {
          "labelAngle": 0
         },
         "field": "a",
         "type": "nominal"
        },
        "y": {
         "field": "b",
         "type": "quantitative"
        }
       },
       "mark": "bar"
      },
      "image/png": "[encoded data removed]"
     },
     "execution_count": 3,
     "metadata": {},
     "output_type": "execute_result"
    }
   ],
   "source": [
    "%VEGA-LITE specs/bar.vl.json \n",
    "select datediff(shippedDate, orderDate) as a, count(1) as b from orders where status='Shipped' group by a;"
   ]
  },
  {
   "cell_type": "code",
   "execution_count": 18,
   "metadata": {},
   "outputs": [
    {
     "data": {
      "text/html": [
       "<table>\n",
       "<tr>\n",
       "<th>IMDB Rating</th>\n",
       "</tr>\n",
       "<tr>\n",
       "<td>14571.44</td>\n",
       "</tr>\n",
       "<tr>\n",
       "<td>1676.14</td>\n",
       "</tr>\n",
       "<tr>\n",
       "<td>14191.12</td>\n",
       "</tr>\n",
       "<tr>\n",
       "<td>32641.98</td>\n",
       "</tr>\n",
       "<tr>\n",
       "<td>33347.88</td>\n",
       "</tr>\n",
       "<tr>\n",
       "<td>45864.03</td>\n",
       "</tr>\n",
       "<tr>\n",
       "<td>82261.22</td>\n",
       "</tr>\n",
       "<tr>\n",
       "<td>7565.08</td>\n",
       "</tr>\n",
       "<tr>\n",
       "<td>44894.74</td>\n",
       "</tr>\n",
       "</table>"
      ]
     },
     "execution_count": 18,
     "metadata": {},
     "output_type": "execute_result"
    }
   ],
   "source": [
    "select amount as \"IMDB Rating\" from payments limit 10;"
   ]
  },
  {
   "cell_type": "code",
   "execution_count": 9,
   "metadata": {},
   "outputs": [
    {
     "data": {
      "application/vnd.vegalite.v3+json": {
       "$schema": "https://vega.github.io/schema/vega-lite/v4.json",
       "data": {
        "values": [
         {
          "a": "A",
          "b": 28
         },
         {
          "a": "B",
          "b": 55
         },
         {
          "a": "C",
          "b": 43
         },
         {
          "a": "D",
          "b": 91
         },
         {
          "a": "E",
          "b": 81
         },
         {
          "a": "F",
          "b": 53
         },
         {
          "a": "G",
          "b": 19
         },
         {
          "a": "H",
          "b": 87
         },
         {
          "a": "I",
          "b": 52
         }
        ]
       },
       "description": "A simple bar chart with embedded data.",
       "encoding": {
        "x": {
         "axis": {
          "labelAngle": 0
         },
         "field": "a",
         "type": "nominal"
        },
        "y": {
         "field": "b",
         "type": "quantitative"
        }
       },
       "mark": "bar"
      },
      "image/png": "[encoded data removed]"
     },
     "execution_count": 9,
     "metadata": {},
     "output_type": "execute_result"
    }
   ],
   "source": [
    "%VEGA-LITE specs/bar.vl.json "
   ]
  },
  {
   "cell_type": "code",
   "execution_count": null,
   "metadata": {},
   "outputs": [],
   "source": []
  }
 ],
 "metadata": {
  "kernelspec": {
   "display_name": "xtidb",
   "language": "mysql",
   "name": "xtidb"
  },
  "language_info": {
   "codemirror_mode": "sql",
   "file_extension": "",
   "mimetype": "",
   "name": "mysql",
   "version": "0.0.5"
  }
 },
 "nbformat": 4,
 "nbformat_minor": 4
}
