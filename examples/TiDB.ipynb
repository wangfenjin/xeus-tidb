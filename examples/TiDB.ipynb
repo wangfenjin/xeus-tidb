{
 "cells": [
  {
   "cell_type": "code",
   "execution_count": 1,
   "metadata": {},
   "outputs": [],
   "source": [
    "%LOAD tidb user=root host=127.0.0.1 port=4000 db=Chinook"
   ]
  },
  {
   "cell_type": "code",
   "execution_count": 2,
   "metadata": {},
   "outputs": [
    {
     "data": {
      "text/html": [
       "<table>\n",
       "<tr>\n",
       "<th>VARIABLE_NAME</th>\n",
       "<th>VARIABLE_VALUE</th>\n",
       "<th>COMMENT</th>\n",
       "</tr>\n",
       "<tr>\n",
       "<td>bootstrapped</td>\n",
       "<td>True</td>\n",
       "<td>Bootstrap flag. Do not delete.</td>\n",
       "</tr>\n",
       "<tr>\n",
       "<td>tidb_server_version</td>\n",
       "<td>59</td>\n",
       "<td>Bootstrap version. Do not delete.</td>\n",
       "</tr>\n",
       "<tr>\n",
       "<td>system_tz</td>\n",
       "<td>Asia/Singapore</td>\n",
       "<td>TiDB Global System Timezone.</td>\n",
       "</tr>\n",
       "<tr>\n",
       "<td>new_collation_enabled</td>\n",
       "<td>False</td>\n",
       "<td>If the new collations are enabled. Do not edit it.</td>\n",
       "</tr>\n",
       "<tr>\n",
       "<td>tikv_gc_leader_uuid</td>\n",
       "<td>5dc12048c340001</td>\n",
       "<td>Current GC worker leader UUID. (DO NOT EDIT)</td>\n",
       "</tr>\n",
       "<tr>\n",
       "<td>tikv_gc_leader_desc</td>\n",
       "<td>host:C02CT123MD6R, pid:26185, start at 2021-01-15 13:25:07.983714 +0800 +08 m=+3.268753608</td>\n",
       "<td>Host name and pid of current GC leader. (DO NOT EDIT)</td>\n",
       "</tr>\n",
       "<tr>\n",
       "<td>tikv_gc_leader_lease</td>\n",
       "<td>20210116-00:35:48 +0800</td>\n",
       "<td>Current GC worker leader lease. (DO NOT EDIT)</td>\n",
       "</tr>\n",
       "<tr>\n",
       "<td>tikv_gc_enable</td>\n",
       "<td>true</td>\n",
       "<td>Current GC enable status</td>\n",
       "</tr>\n",
       "<tr>\n",
       "<td>tikv_gc_run_interval</td>\n",
       "<td>10m0s</td>\n",
       "<td>GC run interval, at least 10m, in Go format.</td>\n",
       "</tr>\n",
       "<tr>\n",
       "<td>tikv_gc_life_time</td>\n",
       "<td>10m0s</td>\n",
       "<td>All versions within life time will not be collected by GC, at least 10m, in Go format.</td>\n",
       "</tr>\n",
       "<tr>\n",
       "<td>tikv_gc_last_run_time</td>\n",
       "<td>20210116-00:31:48 +0800</td>\n",
       "<td>The time when last GC starts. (DO NOT EDIT)</td>\n",
       "</tr>\n",
       "<tr>\n",
       "<td>tikv_gc_safe_point</td>\n",
       "<td>20210116-00:21:48 +0800</td>\n",
       "<td>All versions after safe point can be accessed. (DO NOT EDIT)</td>\n",
       "</tr>\n",
       "<tr>\n",
       "<td>tikv_gc_auto_concurrency</td>\n",
       "<td>true</td>\n",
       "<td>Let TiDB pick the concurrency automatically. If set false, tikv_gc_concurrency will be used</td>\n",
       "</tr>\n",
       "<tr>\n",
       "<td>tikv_gc_scan_lock_mode</td>\n",
       "<td>physical</td>\n",
       "<td>Mode of scanning locks, \"physical\" or \"legacy\"</td>\n",
       "</tr>\n",
       "<tr>\n",
       "<td>tikv_gc_mode</td>\n",
       "<td>distributed</td>\n",
       "<td>Mode of GC, \"central\" or \"distributed\"</td>\n",
       "</tr>\n",
       "</table>15 rows in set (0.00 sec)"
      ]
     },
     "execution_count": 2,
     "metadata": {},
     "output_type": "execute_result"
    }
   ],
   "source": [
    "select * from mysql.tidb;"
   ]
  },
  {
   "cell_type": "code",
   "execution_count": 3,
   "metadata": {},
   "outputs": [
    {
     "data": {
      "text/html": [
       "<table>\n",
       "<tr>\n",
       "<th>name</th>\n",
       "<th>total_quantity</th>\n",
       "<th>total_sales</th>\n",
       "</tr>\n",
       "<tr>\n",
       "<td>Iron Maiden</td>\n",
       "<td>140</td>\n",
       "<td>138.6</td>\n",
       "</tr>\n",
       "<tr>\n",
       "<td>U2</td>\n",
       "<td>107</td>\n",
       "<td>105.93</td>\n",
       "</tr>\n",
       "<tr>\n",
       "<td>Metallica</td>\n",
       "<td>91</td>\n",
       "<td>90.09</td>\n",
       "</tr>\n",
       "<tr>\n",
       "<td>Led Zeppelin</td>\n",
       "<td>87</td>\n",
       "<td>86.13</td>\n",
       "</tr>\n",
       "<tr>\n",
       "<td>Lost</td>\n",
       "<td>41</td>\n",
       "<td>81.59</td>\n",
       "</tr>\n",
       "<tr>\n",
       "<td>The Office</td>\n",
       "<td>25</td>\n",
       "<td>49.75</td>\n",
       "</tr>\n",
       "<tr>\n",
       "<td>Os Paralamas Do Sucesso</td>\n",
       "<td>45</td>\n",
       "<td>44.55</td>\n",
       "</tr>\n",
       "<tr>\n",
       "<td>Deep Purple</td>\n",
       "<td>44</td>\n",
       "<td>43.56</td>\n",
       "</tr>\n",
       "<tr>\n",
       "<td>Faith No More</td>\n",
       "<td>42</td>\n",
       "<td>41.58</td>\n",
       "</tr>\n",
       "<tr>\n",
       "<td>Eric Clapton</td>\n",
       "<td>40</td>\n",
       "<td>39.6</td>\n",
       "</tr>\n",
       "</table>10 rows in set (0.01 sec)"
      ]
     },
     "execution_count": 3,
     "metadata": {},
     "output_type": "execute_result"
    }
   ],
   "source": [
    "select at.Name as name, \n",
    "       sum(il.quantity) as total_quantity, \n",
    "       sum(il.quantity*il.unitPrice) as total_sales \n",
    "from track t\n",
    "     inner join invoiceLine il on il.TrackId=t.TrackId\n",
    "     inner join album a on a.AlbumId=t.AlbumId\n",
    "     inner join artist at on at.ArtistId=a.ArtistId\n",
    "group by 1\n",
    "order by total_sales desc\n",
    "limit 10;"
   ]
  },
  {
   "cell_type": "markdown",
   "metadata": {},
   "source": [
    "# Data Visualization"
   ]
  },
  {
   "cell_type": "markdown",
   "metadata": {},
   "source": [
    "## bar chart\n",
    "Visualizing a discrete, categorical data attribute "
   ]
  },
  {
   "cell_type": "code",
   "execution_count": 4,
   "metadata": {},
   "outputs": [
    {
     "data": {
      "application/vnd.vegalite.v3+json": {
       "$schema": "https://vega.github.io/schema/vega-lite/v4.json",
       "data": {
        "values": [
         {
          "a": "name",
          "b": "name",
          "percent_sold": "name"
         },
         {
          "a": "Rock",
          "b": "157",
          "percent_sold": "31.78"
         },
         {
          "a": "Latin",
          "b": "91",
          "percent_sold": "18.42"
         },
         {
          "a": "Metal",
          "b": "64",
          "percent_sold": "12.96"
         },
         {
          "a": "Alternative & Punk",
          "b": "50",
          "percent_sold": "10.12"
         },
         {
          "a": "Jazz",
          "b": "22",
          "percent_sold": "4.45"
         },
         {
          "a": "Blues",
          "b": "15",
          "percent_sold": "3.04"
         },
         {
          "a": "TV Shows",
          "b": "14",
          "percent_sold": "2.83"
         },
         {
          "a": "R&B/Soul",
          "b": "12",
          "percent_sold": "2.43"
         },
         {
          "a": "Comedy",
          "b": "8",
          "percent_sold": "1.62"
         },
         {
          "a": "Classical",
          "b": "8",
          "percent_sold": "1.62"
         }
        ]
       },
       "description": "Bar chart with text labels. Set domain to make the frame cover the labels.",
       "encoding": {
        "x": {
         "field": "b",
         "scale": {
          "domain": [
           0,
           60
          ]
         },
         "type": "quantitative"
        },
        "y": {
         "field": "a",
         "type": "nominal"
        }
       },
       "layer": [
        {
         "mark": "bar"
        },
        {
         "encoding": {
          "text": {
           "field": "b",
           "type": "quantitative"
          }
         },
         "mark": {
          "align": "left",
          "baseline": "middle",
          "dx": 3,
          "type": "text"
         }
        }
       ]
      },
      "image/png": "[encoded data removed]"
     },
     "execution_count": 4,
     "metadata": {},
     "output_type": "execute_result"
    }
   ],
   "source": [
    "%VEGA-LITE specs/layer_bar_labels.vl.json \n",
    "SELECT \n",
    "    g.Name as a, \n",
    "    SUM(il.Quantity) as b, \n",
    "    ROUND((CAST(SUM(il.Quantity) as float) / (SELECT \n",
    "        SUM(Quantity) total\n",
    "    FROM Chinook.InvoiceLine il\n",
    "    INNER JOIN Chinook.Invoice i ON i.InvoiceId = il.InvoiceId\n",
    "    WHERE i.BillingCountry = 'USA')) * 100, 2) percent_sold \n",
    "FROM Chinook.InvoiceLine il\n",
    "INNER JOIN Chinook.Invoice i ON i.InvoiceId = il.InvoiceId \n",
    "INNER JOIN Chinook.Track t ON il.TrackId = t.TrackId \n",
    "INNER JOIN Chinook.Genre g ON t.GenreId = g.GenreId \n",
    "WHERE i.BillingCountry = 'USA' \n",
    "GROUP BY 1 \n",
    "ORDER BY 2 DESC\n",
    "LIMIT 10"
   ]
  },
  {
   "cell_type": "code",
   "execution_count": 5,
   "metadata": {},
   "outputs": [
    {
     "data": {
      "application/vnd.vegalite.v3+json": {
       "$schema": "https://vega.github.io/schema/vega-lite/v4.json",
       "data": {
        "values": [
         {
          "b": "name",
          "category": "name",
          "value": "name"
         },
         {
          "b": "157",
          "category": "Rock",
          "value": "31.78"
         },
         {
          "b": "91",
          "category": "Latin",
          "value": "18.42"
         },
         {
          "b": "64",
          "category": "Metal",
          "value": "12.96"
         },
         {
          "b": "50",
          "category": "Alternative & Punk",
          "value": "10.12"
         },
         {
          "b": "22",
          "category": "Jazz",
          "value": "4.45"
         },
         {
          "b": "15",
          "category": "Blues",
          "value": "3.04"
         },
         {
          "b": "14",
          "category": "TV Shows",
          "value": "2.83"
         },
         {
          "b": "12",
          "category": "R&B/Soul",
          "value": "2.43"
         },
         {
          "b": "8",
          "category": "Comedy",
          "value": "1.62"
         },
         {
          "b": "8",
          "category": "Classical",
          "value": "1.62"
         }
        ]
       },
       "description": "A simple pie chart with embedded data.",
       "encoding": {
        "color": {
         "field": "category",
         "type": "nominal"
        },
        "theta": {
         "field": "value",
         "type": "quantitative"
        }
       },
       "mark": "arc",
       "view": {
        "stroke": null
       }
      },
      "image/png": "[encoded data removed]"
     },
     "execution_count": 5,
     "metadata": {},
     "output_type": "execute_result"
    }
   ],
   "source": [
    "%VEGA-LITE specs/arc_pie.vl.json \n",
    "SELECT \n",
    "    g.Name as category, \n",
    "    SUM(il.Quantity) as b, \n",
    "    ROUND((CAST(SUM(il.Quantity) as float) / (SELECT \n",
    "        SUM(Quantity) total\n",
    "    FROM Chinook.InvoiceLine il\n",
    "    INNER JOIN Chinook.Invoice i ON i.InvoiceId = il.InvoiceId\n",
    "    WHERE i.BillingCountry = 'USA')) * 100, 2) value \n",
    "FROM Chinook.InvoiceLine il\n",
    "INNER JOIN Chinook.Invoice i ON i.InvoiceId = il.InvoiceId \n",
    "INNER JOIN Chinook.Track t ON il.TrackId = t.TrackId \n",
    "INNER JOIN Chinook.Genre g ON t.GenreId = g.GenreId \n",
    "WHERE i.BillingCountry = 'USA' \n",
    "GROUP BY 1 \n",
    "ORDER BY 2 DESC\n",
    "LIMIT 10"
   ]
  },
  {
   "cell_type": "code",
   "execution_count": 6,
   "metadata": {},
   "outputs": [
    {
     "data": {
      "application/vnd.vegalite.v3+json": {
       "$schema": "https://vega.github.io/schema/vega-lite/v4.json",
       "config": {
        "view": {
         "stroke": "transparent"
        }
       },
       "data": {
        "values": [
         {
          "Country": "name",
          "Genre": "name",
          "c": "name"
         },
         {
          "Country": "Brazil",
          "Genre": "Latin",
          "c": "53"
         },
         {
          "Country": "Portugal",
          "Genre": "R&B/Soul",
          "c": "2"
         },
         {
          "Country": "India",
          "Genre": "R&B/Soul",
          "c": "4"
         },
         {
          "Country": "Canada",
          "Genre": "Electronica/Dance",
          "c": "4"
         },
         {
          "Country": "Hungary",
          "Genre": "Blues",
          "c": "2"
         },
         {
          "Country": "Ireland",
          "Genre": "Metal",
          "c": "3"
         },
         {
          "Country": "France",
          "Genre": "Alternative & Punk",
          "c": "31"
         },
         {
          "Country": "Brazil",
          "Genre": "Blues",
          "c": "6"
         },
         {
          "Country": "Sweden",
          "Genre": "Alternative & Punk",
          "c": "6"
         },
         {
          "Country": "Spain",
          "Genre": "Latin",
          "c": "4"
         },
         {
          "Country": "Hungary",
          "Genre": "Latin",
          "c": "3"
         },
         {
          "Country": "France",
          "Genre": "Electronica/Dance",
          "c": "2"
         },
         {
          "Country": "Austria",
          "Genre": "Rock",
          "c": "15"
         },
         {
          "Country": "India",
          "Genre": "TV Shows",
          "c": "1"
         },
         {
          "Country": "Argentina",
          "Genre": "Soundtrack",
          "c": "1"
         },
         {
          "Country": "Netherlands",
          "Genre": "Latin",
          "c": "3"
         },
         {
          "Country": "Austria",
          "Genre": "Pop",
          "c": "1"
         },
         {
          "Country": "United Kingdom",
          "Genre": "Jazz",
          "c": "4"
         },
         {
          "Country": "India",
          "Genre": "Jazz",
          "c": "10"
         },
         {
          "Country": "Germany",
          "Genre": "Science Fiction",
          "c": "2"
         },
         {
          "Country": "Canada",
          "Genre": "Alternative & Punk",
          "c": "36"
         },
         {
          "Country": "Netherlands",
          "Genre": "Blues",
          "c": "4"
         },
         {
          "Country": "Chile",
          "Genre": "Soundtrack",
          "c": "1"
         },
         {
          "Country": "USA",
          "Genre": "Bossa Nova",
          "c": "7"
         },
         {
          "Country": "Czech Republic",
          "Genre": "Metal",
          "c": "6"
         },
         {
          "Country": "Czech Republic",
          "Genre": "Drama",
          "c": "6"
         },
         {
          "Country": "Chile",
          "Genre": "Sci Fi & Fantasy",
          "c": "1"
         },
         {
          "Country": "Brazil",
          "Genre": "Metal",
          "c": "15"
         },
         {
          "Country": "Argentina",
          "Genre": "Easy Listening",
          "c": "2"
         },
         {
          "Country": "Italy",
          "Genre": "Alternative & Punk",
          "c": "11"
         },
         {
          "Country": "India",
          "Genre": "Alternative & Punk",
          "c": "11"
         },
         {
          "Country": "Hungary",
          "Genre": "Alternative & Punk",
          "c": "3"
         },
         {
          "Country": "France",
          "Genre": "Soundtrack",
          "c": "5"
         },
         {
          "Country": "France",
          "Genre": "Bossa Nova",
          "c": "1"
         },
         {
          "Country": "Belgium",
          "Genre": "Alternative & Punk",
          "c": "14"
         },
         {
          "Country": "Czech Republic",
          "Genre": "Jazz",
          "c": "3"
         },
         {
          "Country": "Czech Republic",
          "Genre": "TV Shows",
          "c": "8"
         },
         {
          "Country": "Spain",
          "Genre": "Hip Hop/Rap",
          "c": "1"
         },
         {
          "Country": "USA",
          "Genre": "Reggae",
          "c": "6"
         },
         {
          "Country": "United Kingdom",
          "Genre": "Alternative & Punk",
          "c": "9"
         },
         {
          "Country": "Italy",
          "Genre": "Rock",
          "c": "18"
         },
         {
          "Country": "Austria",
          "Genre": "TV Shows",
          "c": "4"
         },
         {
          "Country": "France",
          "Genre": "Drama",
          "c": "4"
         },
         {
          "Country": "Spain",
          "Genre": "Alternative & Punk",
          "c": "4"
         },
         {
          "Country": "Germany",
          "Genre": "Soundtrack",
          "c": "5"
         },
         {
          "Country": "Norway",
          "Genre": "Alternative & Punk",
          "c": "2"
         },
         {
          "Country": "Ireland",
          "Genre": "Latin",
          "c": "7"
         },
         {
          "Country": "Canada",
          "Genre": "Rock And Roll",
          "c": "2"
         },
         {
          "Country": "Poland",
          "Genre": "Latin",
          "c": "7"
         },
         {
          "Country": "USA",
          "Genre": "Jazz",
          "c": "22"
         },
         {
          "Country": "USA",
          "Genre": "Classical",
          "c": "8"
         },
         {
          "Country": "Canada",
          "Genre": "Latin",
          "c": "60"
         },
         {
          "Country": "Netherlands",
          "Genre": "Metal",
          "c": "2"
         },
         {
          "Country": "Czech Republic",
          "Genre": "R&B/Soul",
          "c": "2"
         },
         {
          "Country": "France",
          "Genre": "Pop",
          "c": "2"
         },
         {
          "Country": "India",
          "Genre": "Classical",
          "c": "2"
         },
         {
          "Country": "Portugal",
          "Genre": "Heavy Metal",
          "c": "2"
         },
         {
          "Country": "India",
          "Genre": "Sci Fi & Fantasy",
          "c": "1"
         },
         {
          "Country": "Chile",
          "Genre": "Easy Listening",
          "c": "3"
         },
         {
          "Country": "Austria",
          "Genre": "R&B/Soul",
          "c": "4"
         },
         {
          "Country": "France",
          "Genre": "Jazz",
          "c": "11"
         },
         {
          "Country": "Chile",
          "Genre": "Latin",
          "c": "8"
         },
         {
          "Country": "Australia",
          "Genre": "Latin",
          "c": "2"
         },
         {
          "Country": "Czech Republic",
          "Genre": "Alternative & Punk",
          "c": "9"
         },
         {
          "Country": "Denmark",
          "Genre": "Metal",
          "c": "6"
         },
         {
          "Country": "USA",
          "Genre": "Hip Hop/Rap",
          "c": "4"
         },
         {
          "Country": "Canada",
          "Genre": "R&B/Soul",
          "c": "5"
         },
         {
          "Country": "Denmark",
          "Genre": "Alternative & Punk",
          "c": "4"
         },
         {
          "Country": "Ireland",
          "Genre": "Alternative & Punk",
          "c": "4"
         },
         {
          "Country": "Chile",
          "Genre": "Rock",
          "c": "9"
         },
         {
          "Country": "USA",
          "Genre": "Alternative",
          "c": "5"
         },
         {
          "Country": "Chile",
          "Genre": "Classical",
          "c": "1"
         },
         {
          "Country": "France",
          "Genre": "Metal",
          "c": "20"
         },
         {
          "Country": "Portugal",
          "Genre": "Sci Fi & Fantasy",
          "c": "1"
         },
         {
          "Country": "France",
          "Genre": "Rock And Roll",
          "c": "1"
         },
         {
          "Country": "France",
          "Genre": "Latin",
          "c": "26"
         },
         {
          "Country": "Portugal",
          "Genre": "TV Shows",
          "c": "1"
         },
         {
          "Country": "Brazil",
          "Genre": "R&B/Soul",
          "c": "3"
         },
         {
          "Country": "Spain",
          "Genre": "Metal",
          "c": "3"
         },
         {
          "Country": "Canada",
          "Genre": "Metal",
          "c": "40"
         },
         {
          "Country": "Poland",
          "Genre": "Rock",
          "c": "22"
         },
         {
          "Country": "Argentina",
          "Genre": "Metal",
          "c": "7"
         },
         {
          "Country": "Belgium",
          "Genre": "Metal",
          "c": "1"
         },
         {
          "Country": "Czech Republic",
          "Genre": "Latin",
          "c": "9"
         },
         {
          "Country": "Czech Republic",
          "Genre": "Electronica/Dance",
          "c": "2"
         },
         {
          "Country": "Germany",
          "Genre": "TV Shows",
          "c": "3"
         },
         {
          "Country": "Brazil",
          "Genre": "Classical",
          "c": "6"
         },
         {
          "Country": "Spain",
          "Genre": "Rock",
          "c": "22"
         },
         {
          "Country": "Germany",
          "Genre": "Alternative",
          "c": "1"
         },
         {
          "Country": "USA",
          "Genre": "Science Fiction",
          "c": "1"
         },
         {
          "Country": "Belgium",
          "Genre": "R&B/Soul",
          "c": "2"
         },
         {
          "Country": "Norway",
          "Genre": "Alternative",
          "c": "4"
         },
         {
          "Country": "Chile",
          "Genre": "TV Shows",
          "c": "2"
         },
         {
          "Country": "United Kingdom",
          "Genre": "Pop",
          "c": "2"
         },
         {
          "Country": "United Kingdom",
          "Genre": "R&B/Soul",
          "c": "2"
         },
         {
          "Country": "Czech Republic",
          "Genre": "Pop",
          "c": "4"
         },
         {
          "Country": "Denmark",
          "Genre": "Rock",
          "c": "21"
         },
         {
          "Country": "USA",
          "Genre": "Sci Fi & Fantasy",
          "c": "5"
         },
         {
          "Country": "France",
          "Genre": "Hip Hop/Rap",
          "c": "2"
         },
         {
          "Country": "Czech Republic",
          "Genre": "Blues",
          "c": "1"
         },
         {
          "Country": "Spain",
          "Genre": "Jazz",
          "c": "2"
         },
         {
          "Country": "Hungary",
          "Genre": "TV Shows",
          "c": "4"
         },
         {
          "Country": "Canada",
          "Genre": "Classical",
          "c": "5"
         },
         {
          "Country": "Netherlands",
          "Genre": "Pop",
          "c": "3"
         },
         {
          "Country": "Sweden",
          "Genre": "Latin",
          "c": "12"
         },
         {
          "Country": "Brazil",
          "Genre": "Alternative & Punk",
          "c": "7"
         },
         {
          "Country": "Netherlands",
          "Genre": "Alternative & Punk",
          "c": "5"
         },
         {
          "Country": "Portugal",
          "Genre": "Jazz",
          "c": "2"
         },
         {
          "Country": "USA",
          "Genre": "Metal",
          "c": "64"
         },
         {
          "Country": "Canada",
          "Genre": "TV Shows",
          "c": "1"
         },
         {
          "Country": "Argentina",
          "Genre": "Alternative & Punk",
          "c": "9"
         },
         {
          "Country": "Germany",
          "Genre": "Easy Listening",
          "c": "2"
         },
         {
          "Country": "Austria",
          "Genre": "Latin",
          "c": "2"
         },
         {
          "Country": "Portugal",
          "Genre": "Metal",
          "c": "11"
         },
         {
          "Country": "Australia",
          "Genre": "Rock",
          "c": "22"
         },
         {
          "Country": "USA",
          "Genre": "Rock",
          "c": "157"
         },
         {
          "Country": "Hungary",
          "Genre": "Electronica/Dance",
          "c": "1"
         },
         {
          "Country": "USA",
          "Genre": "Latin",
          "c": "91"
         },
         {
          "Country": "Poland",
          "Genre": "Jazz",
          "c": "1"
         },
         {
          "Country": "Norway",
          "Genre": "Classical",
          "c": "5"
         },
         {
          "Country": "Ireland",
          "Genre": "TV Shows",
          "c": "7"
         },
         {
          "Country": "USA",
          "Genre": "TV Shows",
          "c": "14"
         },
         {
          "Country": "Brazil",
          "Genre": "World",
          "c": "2"
         },
         {
          "Country": "Germany",
          "Genre": "Alternative & Punk",
          "c": "13"
         },
         {
          "Country": "Portugal",
          "Genre": "Alternative & Punk",
          "c": "5"
         },
         {
          "Country": "India",
          "Genre": "Rock",
          "c": "25"
         },
         {
          "Country": "Netherlands",
          "Genre": "Rock",
          "c": "18"
         },
         {
          "Country": "Argentina",
          "Genre": "Jazz",
          "c": "2"
         },
         {
          "Country": "Hungary",
          "Genre": "Metal",
          "c": "5"
         },
         {
          "Country": "Austria",
          "Genre": "Metal",
          "c": "7"
         },
         {
          "Country": "Australia",
          "Genre": "Reggae",
          "c": "2"
         },
         {
          "Country": "United Kingdom",
          "Genre": "Hip Hop/Rap",
          "c": "3"
         },
         {
          "Country": "Germany",
          "Genre": "Pop",
          "c": "1"
         },
         {
          "Country": "Denmark",
          "Genre": "Latin",
          "c": "4"
         },
         {
          "Country": "India",
          "Genre": "Blues",
          "c": "3"
         },
         {
          "Country": "Germany",
          "Genre": "Heavy Metal",
          "c": "3"
         },
         {
          "Country": "Chile",
          "Genre": "Metal",
          "c": "3"
         },
         {
          "Country": "Hungary",
          "Genre": "Comedy",
          "c": "1"
         },
         {
          "Country": "Norway",
          "Genre": "World",
          "c": "1"
         },
         {
          "Country": "Austria",
          "Genre": "Drama",
          "c": "1"
         },
         {
          "Country": "USA",
          "Genre": "Alternative & Punk",
          "c": "50"
         },
         {
          "Country": "Denmark",
          "Genre": "Pop",
          "c": "3"
         },
         {
          "Country": "Argentina",
          "Genre": "Latin",
          "c": "8"
         },
         {
          "Country": "Norway",
          "Genre": "Electronica/Dance",
          "c": "2"
         },
         {
          "Country": "Canada",
          "Genre": "Bossa Nova",
          "c": "7"
         },
         {
          "Country": "Czech Republic",
          "Genre": "Rock",
          "c": "25"
         },
         {
          "Country": "Portugal",
          "Genre": "Rock",
          "c": "31"
         },
         {
          "Country": "Canada",
          "Genre": "Hip Hop/Rap",
          "c": "5"
         },
         {
          "Country": "Hungary",
          "Genre": "Sci Fi & Fantasy",
          "c": "1"
         },
         {
          "Country": "Finland",
          "Genre": "Alternative & Punk",
          "c": "2"
         },
         {
          "Country": "Portugal",
          "Genre": "Pop",
          "c": "4"
         },
         {
          "Country": "France",
          "Genre": "Rock",
          "c": "65"
         },
         {
          "Country": "France",
          "Genre": "Classical",
          "c": "10"
         },
         {
          "Country": "United Kingdom",
          "Genre": "Reggae",
          "c": "5"
         },
         {
          "Country": "Spain",
          "Genre": "Reggae",
          "c": "2"
         },
         {
          "Country": "United Kingdom",
          "Genre": "Latin",
          "c": "31"
         },
         {
          "Country": "USA",
          "Genre": "Heavy Metal",
          "c": "4"
         },
         {
          "Country": "United Kingdom",
          "Genre": "Rock",
          "c": "37"
         },
         {
          "Country": "Ireland",
          "Genre": "Jazz",
          "c": "3"
         },
         {
          "Country": "Portugal",
          "Genre": "World",
          "c": "2"
         },
         {
          "Country": "USA",
          "Genre": "Drama",
          "c": "6"
         },
         {
          "Country": "Canada",
          "Genre": "World",
          "c": "6"
         },
         {
          "Country": "Italy",
          "Genre": "Blues",
          "c": "4"
         },
         {
          "Country": "Austria",
          "Genre": "Classical",
          "c": "2"
         },
         {
          "Country": "USA",
          "Genre": "Blues",
          "c": "15"
         },
         {
          "Country": "Germany",
          "Genre": "Latin",
          "c": "18"
         },
         {
          "Country": "Portugal",
          "Genre": "Latin",
          "c": "13"
         },
         {
          "Country": "USA",
          "Genre": "Soundtrack",
          "c": "4"
         },
         {
          "Country": "Brazil",
          "Genre": "Reggae",
          "c": "6"
         },
         {
          "Country": "United Kingdom",
          "Genre": "Metal",
          "c": "20"
         },
         {
          "Country": "Sweden",
          "Genre": "Rock",
          "c": "10"
         },
         {
          "Country": "France",
          "Genre": "Sci Fi & Fantasy",
          "c": "2"
         },
         {
          "Country": "USA",
          "Genre": "Pop",
          "c": "5"
         },
         {
          "Country": "Ireland",
          "Genre": "Blues",
          "c": "1"
         },
         {
          "Country": "USA",
          "Genre": "Comedy",
          "c": "8"
         },
         {
          "Country": "Czech Republic",
          "Genre": "Science Fiction",
          "c": "1"
         },
         {
          "Country": "Hungary",
          "Genre": "R&B/Soul",
          "c": "5"
         },
         {
          "Country": "Brazil",
          "Genre": "Soundtrack",
          "c": "4"
         },
         {
          "Country": "Finland",
          "Genre": "Sci Fi & Fantasy",
          "c": "4"
         },
         {
          "Country": "Canada",
          "Genre": "Drama",
          "c": "2"
         },
         {
          "Country": "Brazil",
          "Genre": "Pop",
          "c": "3"
         },
         {
          "Country": "Italy",
          "Genre": "Latin",
          "c": "2"
         },
         {
          "Country": "Finland",
          "Genre": "Metal",
          "c": "2"
         },
         {
          "Country": "Australia",
          "Genre": "Metal",
          "c": "8"
         },
         {
          "Country": "Norway",
          "Genre": "Drama",
          "c": "2"
         },
         {
          "Country": "USA",
          "Genre": "Easy Listening",
          "c": "3"
         },
         {
          "Country": "Austria",
          "Genre": "Jazz",
          "c": "2"
         },
         {
          "Country": "Portugal",
          "Genre": "Electronica/Dance",
          "c": "1"
         },
         {
          "Country": "Canada",
          "Genre": "Blues",
          "c": "4"
         },
         {
          "Country": "Germany",
          "Genre": "Jazz",
          "c": "2"
         },
         {
          "Country": "Sweden",
          "Genre": "World",
          "c": "1"
         },
         {
          "Country": "Hungary",
          "Genre": "Drama",
          "c": "2"
         },
         {
          "Country": "France",
          "Genre": "Blues",
          "c": "2"
         },
         {
          "Country": "Finland",
          "Genre": "Latin",
          "c": "9"
         },
         {
          "Country": "India",
          "Genre": "Metal",
          "c": "8"
         },
         {
          "Country": "Argentina",
          "Genre": "Rock",
          "c": "9"
         },
         {
          "Country": "Chile",
          "Genre": "Science Fiction",
          "c": "2"
         },
         {
          "Country": "Brazil",
          "Genre": "Hip Hop/Rap",
          "c": "2"
         },
         {
          "Country": "USA",
          "Genre": "R&B/Soul",
          "c": "12"
         },
         {
          "Country": "Netherlands",
          "Genre": "Sci Fi & Fantasy",
          "c": "3"
         },
         {
          "Country": "Canada",
          "Genre": "Rock",
          "c": "107"
         },
         {
          "Country": "Germany",
          "Genre": "Metal",
          "c": "25"
         },
         {
          "Country": "Chile",
          "Genre": "Blues",
          "c": "2"
         },
         {
          "Country": "Norway",
          "Genre": "Latin",
          "c": "5"
         },
         {
          "Country": "Hungary",
          "Genre": "Rock",
          "c": "11"
         },
         {
          "Country": "Canada",
          "Genre": "Reggae",
          "c": "7"
         },
         {
          "Country": "Chile",
          "Genre": "Drama",
          "c": "4"
         },
         {
          "Country": "Portugal",
          "Genre": "Blues",
          "c": "1"
         },
         {
          "Country": "Poland",
          "Genre": "Blues",
          "c": "1"
         },
         {
          "Country": "Chile",
          "Genre": "Alternative & Punk",
          "c": "2"
         },
         {
          "Country": "Australia",
          "Genre": "Blues",
          "c": "1"
         },
         {
          "Country": "Ireland",
          "Genre": "Drama",
          "c": "1"
         },
         {
          "Country": "Italy",
          "Genre": "Metal",
          "c": "1"
         },
         {
          "Country": "Poland",
          "Genre": "Alternative & Punk",
          "c": "7"
         },
         {
          "Country": "Germany",
          "Genre": "Blues",
          "c": "14"
         },
         {
          "Country": "USA",
          "Genre": "Rock And Roll",
          "c": "3"
         },
         {
          "Country": "Belgium",
          "Genre": "Rock",
          "c": "21"
         },
         {
          "Country": "Italy",
          "Genre": "Classical",
          "c": "2"
         },
         {
          "Country": "France",
          "Genre": "Alternative",
          "c": "4"
         },
         {
          "Country": "India",
          "Genre": "Latin",
          "c": "9"
         },
         {
          "Country": "Germany",
          "Genre": "Rock",
          "c": "62"
         },
         {
          "Country": "Canada",
          "Genre": "Jazz",
          "c": "13"
         },
         {
          "Country": "Sweden",
          "Genre": "Jazz",
          "c": "1"
         },
         {
          "Country": "Ireland",
          "Genre": "Rock",
          "c": "12"
         },
         {
          "Country": "Germany",
          "Genre": "Drama",
          "c": "1"
         },
         {
          "Country": "United Kingdom",
          "Genre": "World",
          "c": "1"
         },
         {
          "Country": "Finland",
          "Genre": "Rock",
          "c": "18"
         },
         {
          "Country": "France",
          "Genre": "Reggae",
          "c": "1"
         },
         {
          "Country": "Finland",
          "Genre": "Reggae",
          "c": "1"
         },
         {
          "Country": "Sweden",
          "Genre": "Metal",
          "c": "7"
         },
         {
          "Country": "Australia",
          "Genre": "Heavy Metal",
          "c": "3"
         },
         {
          "Country": "Brazil",
          "Genre": "Sci Fi & Fantasy",
          "c": "2"
         },
         {
          "Country": "Sweden",
          "Genre": "TV Shows",
          "c": "1"
         },
         {
          "Country": "Norway",
          "Genre": "Rock",
          "c": "17"
         },
         {
          "Country": "Brazil",
          "Genre": "Rock",
          "c": "81"
         },
         {
          "Country": "France",
          "Genre": "TV Shows",
          "c": "1"
         },
         {
          "Country": "Finland",
          "Genre": "Jazz",
          "c": "2"
         }
        ]
       },
       "encoding": {
        "color": {
         "field": "c",
         "type": "quantitative"
        },
        "x": {
         "field": "Country",
         "type": "nominal"
        },
        "y": {
         "field": "Genre",
         "type": "nominal"
        }
       },
       "height": 400,
       "mark": "rect",
       "width": 600
      },
      "image/png": "[encoded data removed]"
     },
     "execution_count": 6,
     "metadata": {},
     "output_type": "execute_result"
    }
   ],
   "source": [
    "%VEGA-LITE rect_category_heatmap.vl.json \n",
    "select i.BillingCountry as Country, g.name as Genre, count(1) as c\n",
    "from invoice i \n",
    "    inner join InvoiceLine il on i.InvoiceId=il.InvoiceId \n",
    "    inner join track t on t.TrackId=il.TrackId \n",
    "    inner join genre g on g.GenreId=t.GenreId\n",
    "group by 1,2"
   ]
  },
  {
   "cell_type": "code",
   "execution_count": null,
   "metadata": {},
   "outputs": [],
   "source": []
  }
 ],
 "metadata": {
  "kernelspec": {
   "display_name": "xtidb",
   "language": "mysql",
   "name": "xtidb"
  },
  "language_info": {
   "codemirror_mode": "sql",
   "file_extension": "",
   "mimetype": "",
   "name": "mysql",
   "version": "0.0.5"
  }
 },
 "nbformat": 4,
 "nbformat_minor": 4
}
